{
  "nbformat": 4,
  "nbformat_minor": 0,
  "metadata": {
    "colab": {
      "name": "256_Apriori_Assignment.ipynb",
      "provenance": [],
      "collapsed_sections": [
        "cLXOdAMeur3n",
        "XdXIykGBvK1D",
        "lWSRN9m-vQoV",
        "8N9viW2tvlhG",
        "5YDdrzWDvngn",
        "JqkMenOmwJES",
        "MvBJVpAD9oMV",
        "Wh9Y2zgU9r_2",
        "zUBzxdft9vfO",
        "JhwQXZY--Chl"
      ],
      "authorship_tag": "ABX9TyONRODU+ibxcvCllMpfm9JO",
      "include_colab_link": true
    },
    "kernelspec": {
      "name": "python3",
      "display_name": "Python 3"
    },
    "language_info": {
      "name": "python"
    }
  },
  "cells": [
    {
      "cell_type": "markdown",
      "metadata": {
        "id": "view-in-github",
        "colab_type": "text"
      },
      "source": [
        "<a href=\"https://colab.research.google.com/github/Swathi04/CMPE256_Apriori_Colab/blob/main/256_Apriori_Assignment.ipynb\" target=\"_parent\"><img src=\"https://colab.research.google.com/assets/colab-badge.svg\" alt=\"Open In Colab\"/></a>"
      ]
    },
    {
      "cell_type": "markdown",
      "metadata": {
        "id": "tyamqVpBuXtb"
      },
      "source": [
        "#Apriori Algorithm for Market basket analysis\n",
        "Submitted by: SWATHI ANANDRAM"
      ]
    },
    {
      "cell_type": "markdown",
      "metadata": {
        "id": "-QT3L-FsukrT"
      },
      "source": [
        "##APRIORI ALGORITHM\n",
        "Apriori is an algorithm for frequent item set mining and association rule learning over relational databases. It proceeds by identifying the frequent individual items in the database and extending them to larger and larger item sets as long as those item sets appear sufficiently often in the database. The frequent item sets determined by Apriori can be used to determine association rules which highlight general trends in the database: this has applications in domains such as market basket analysis."
      ]
    },
    {
      "cell_type": "markdown",
      "metadata": {
        "id": "cLXOdAMeur3n"
      },
      "source": [
        "##Installing necessary libraries"
      ]
    },
    {
      "cell_type": "code",
      "metadata": {
        "colab": {
          "base_uri": "https://localhost:8080/"
        },
        "id": "m3biFvaPuLan",
        "outputId": "1f8cb3ed-0d1e-4212-cce7-aff5ff5d1164"
      },
      "source": [
        "!pip install mlxtend --upgrade"
      ],
      "execution_count": null,
      "outputs": [
        {
          "output_type": "stream",
          "name": "stdout",
          "text": [
            "Requirement already satisfied: mlxtend in /usr/local/lib/python3.7/dist-packages (0.19.0)\n",
            "Requirement already satisfied: setuptools in /usr/local/lib/python3.7/dist-packages (from mlxtend) (57.4.0)\n",
            "Requirement already satisfied: pandas>=0.24.2 in /usr/local/lib/python3.7/dist-packages (from mlxtend) (1.1.5)\n",
            "Requirement already satisfied: scipy>=1.2.1 in /usr/local/lib/python3.7/dist-packages (from mlxtend) (1.4.1)\n",
            "Requirement already satisfied: matplotlib>=3.0.0 in /usr/local/lib/python3.7/dist-packages (from mlxtend) (3.2.2)\n",
            "Requirement already satisfied: numpy>=1.16.2 in /usr/local/lib/python3.7/dist-packages (from mlxtend) (1.19.5)\n",
            "Requirement already satisfied: joblib>=0.13.2 in /usr/local/lib/python3.7/dist-packages (from mlxtend) (1.1.0)\n",
            "Requirement already satisfied: scikit-learn>=0.20.3 in /usr/local/lib/python3.7/dist-packages (from mlxtend) (1.0.1)\n",
            "Requirement already satisfied: cycler>=0.10 in /usr/local/lib/python3.7/dist-packages (from matplotlib>=3.0.0->mlxtend) (0.11.0)\n",
            "Requirement already satisfied: kiwisolver>=1.0.1 in /usr/local/lib/python3.7/dist-packages (from matplotlib>=3.0.0->mlxtend) (1.3.2)\n",
            "Requirement already satisfied: python-dateutil>=2.1 in /usr/local/lib/python3.7/dist-packages (from matplotlib>=3.0.0->mlxtend) (2.8.2)\n",
            "Requirement already satisfied: pyparsing!=2.0.4,!=2.1.2,!=2.1.6,>=2.0.1 in /usr/local/lib/python3.7/dist-packages (from matplotlib>=3.0.0->mlxtend) (3.0.6)\n",
            "Requirement already satisfied: pytz>=2017.2 in /usr/local/lib/python3.7/dist-packages (from pandas>=0.24.2->mlxtend) (2018.9)\n",
            "Requirement already satisfied: six>=1.5 in /usr/local/lib/python3.7/dist-packages (from python-dateutil>=2.1->matplotlib>=3.0.0->mlxtend) (1.15.0)\n",
            "Requirement already satisfied: threadpoolctl>=2.0.0 in /usr/local/lib/python3.7/dist-packages (from scikit-learn>=0.20.3->mlxtend) (3.0.0)\n"
          ]
        }
      ]
    },
    {
      "cell_type": "markdown",
      "metadata": {
        "id": "XdXIykGBvK1D"
      },
      "source": [
        "##Importing necessary libraries"
      ]
    },
    {
      "cell_type": "code",
      "metadata": {
        "id": "AXSpIBlpvNp2"
      },
      "source": [
        "import pandas as pd\n",
        "from mlxtend.preprocessing import TransactionEncoder\n",
        "from mlxtend.frequent_patterns import apriori,association_rules"
      ],
      "execution_count": null,
      "outputs": []
    },
    {
      "cell_type": "markdown",
      "metadata": {
        "id": "lWSRN9m-vQoV"
      },
      "source": [
        "##Import dataset from drive"
      ]
    },
    {
      "cell_type": "code",
      "metadata": {
        "colab": {
          "base_uri": "https://localhost:8080/"
        },
        "id": "ZJ8Z29OmvSjm",
        "outputId": "0ca60365-a994-44a8-b069-52854940f825"
      },
      "source": [
        "from google.colab import drive\n",
        "drive.mount('/content/gdrive')"
      ],
      "execution_count": null,
      "outputs": [
        {
          "output_type": "stream",
          "name": "stdout",
          "text": [
            "Drive already mounted at /content/gdrive; to attempt to forcibly remount, call drive.mount(\"/content/gdrive\", force_remount=True).\n"
          ]
        }
      ]
    },
    {
      "cell_type": "markdown",
      "metadata": {
        "id": "8N9viW2tvlhG"
      },
      "source": [
        "##Load the data frame and change it to the necessary format"
      ]
    },
    {
      "cell_type": "code",
      "metadata": {
        "id": "yZwJOvmJvehD"
      },
      "source": [
        "data_frame = pd.read_csv('/content/gdrive/MyDrive/Colab Notebooks/TRAIN-ARULES.csv')\n",
        "data_frame.product_name = [\"\".join(i.split(\",\")) for i in data_frame.product_name]\n",
        "orders = data_frame.order_id.unique()\n",
        "transactions = [data_frame[data_frame.order_id == i][\"product_name\"].tolist() for i in orders]\n",
        "trans_encoder = TransactionEncoder().fit(transactions)\n",
        "transactions = trans_encoder.transform(transactions)\n",
        "transactions = pd.DataFrame(transactions,columns=trans_encoder.columns_)"
      ],
      "execution_count": null,
      "outputs": []
    },
    {
      "cell_type": "markdown",
      "metadata": {
        "id": "5YDdrzWDvngn"
      },
      "source": [
        "##Calculate the frequent itemset using Apriori, also calculate the Association rules using Apriori"
      ]
    },
    {
      "cell_type": "code",
      "metadata": {
        "id": "w90nmrfdvtpc"
      },
      "source": [
        "freq_itemset_using_apriori = apriori(transactions, min_support = 0.01, use_colnames = True)\n",
        "association_rules_using_apriori = association_rules(freq_itemset_using_apriori, metric = \"confidence\")"
      ],
      "execution_count": null,
      "outputs": []
    },
    {
      "cell_type": "markdown",
      "metadata": {
        "id": "JqkMenOmwJES"
      },
      "source": [
        "##Association Rules generation using Apriori Method"
      ]
    },
    {
      "cell_type": "code",
      "metadata": {
        "colab": {
          "base_uri": "https://localhost:8080/"
        },
        "id": "st6tUK9JwN0r",
        "outputId": "4de36c6f-f44e-48db-fe48-8b72afa3db03"
      },
      "source": [
        "print(\"Association Rules using Apriori Method:- \\n\")\n",
        "for item in association_rules_using_apriori.iterrows():\n",
        "  print(f\"Rule {item[0] + 1}: {tuple(item[1].antecedents)} -> {tuple(item[1].consequents)}\")"
      ],
      "execution_count": null,
      "outputs": [
        {
          "output_type": "stream",
          "name": "stdout",
          "text": [
            "Association Rules using Apriori Method:- \n",
            "\n",
            "Rule 1: ('Petit Suisse Fruit',) -> ('Authentic French Brioche',)\n",
            "Rule 2: ('Authentic French Brioche',) -> ('Petit Suisse Fruit',)\n",
            "Rule 3: ('Oatmeal Crème Pies',) -> ('Cran-Apple Juice Drink',)\n",
            "Rule 4: ('Cran-Apple Juice Drink',) -> ('Oatmeal Crème Pies',)\n",
            "Rule 5: ('Sparkling Water Natural Mango Essenced',) -> ('Dark Chocolate Minis',)\n",
            "Rule 6: ('Grade A Extra Large Eggs',) -> ('Natural Lime Flavor Sparkling Mineral Water',)\n",
            "Rule 7: ('Lemon Sparkling Water',) -> ('Orange Sparkling Water',)\n",
            "Rule 8: ('Light Oaked Chardonnay',) -> ('Natural Lime Flavor Sparkling Mineral Water',)\n",
            "Rule 9: ('Reduced Fat Milk',) -> ('Natural Artesian Bottled Water',)\n",
            "Rule 10: ('Organic Graham Crunch Cereal',) -> ('Organic Heritage Flakes Cereal',)\n",
            "Rule 11: ('Sparkling Water Natural Mango Essenced',) -> ('Organic Pink Lemonade Bunny Fruit Snacks',)\n",
            "Rule 12: ('Sparkling Water Natural Mango Essenced',) -> ('Peach-Pear Sparkling Water',)\n",
            "Rule 13: ('Zero Calorie Cola',) -> ('Soda',)\n",
            "Rule 14: ('Total 0% Raspberry Yogurt',) -> ('Total 2% with Strawberry Lowfat Greek Strained Yogurt',)\n",
            "Rule 15: ('Total 2% Lowfat Greek Strained Yogurt With Blueberry',) -> ('Total 2% with Strawberry Lowfat Greek Strained Yogurt',)\n",
            "Rule 16: ('Dark Chocolate Minis', 'Peach-Pear Sparkling Water') -> ('Organic Pink Lemonade Bunny Fruit Snacks',)\n",
            "Rule 17: ('Peach-Pear Sparkling Water', 'Organic Pink Lemonade Bunny Fruit Snacks') -> ('Dark Chocolate Minis',)\n",
            "Rule 18: ('Sparkling Water Natural Mango Essenced', 'Dark Chocolate Minis') -> ('Organic Pink Lemonade Bunny Fruit Snacks',)\n",
            "Rule 19: ('Sparkling Water Natural Mango Essenced', 'Organic Pink Lemonade Bunny Fruit Snacks') -> ('Dark Chocolate Minis',)\n",
            "Rule 20: ('Sparkling Water Natural Mango Essenced',) -> ('Dark Chocolate Minis', 'Organic Pink Lemonade Bunny Fruit Snacks')\n",
            "Rule 21: ('Sparkling Water Natural Mango Essenced', 'Dark Chocolate Minis') -> ('Peach-Pear Sparkling Water',)\n",
            "Rule 22: ('Sparkling Water Natural Mango Essenced', 'Peach-Pear Sparkling Water') -> ('Dark Chocolate Minis',)\n",
            "Rule 23: ('Dark Chocolate Minis', 'Peach-Pear Sparkling Water') -> ('Sparkling Water Natural Mango Essenced',)\n",
            "Rule 24: ('Sparkling Water Natural Mango Essenced',) -> ('Dark Chocolate Minis', 'Peach-Pear Sparkling Water')\n",
            "Rule 25: ('Natural Lime Flavor Sparkling Mineral Water', 'Light Oaked Chardonnay') -> ('Grade A Extra Large Eggs',)\n",
            "Rule 26: ('Light Oaked Chardonnay', 'Grade A Extra Large Eggs') -> ('Natural Lime Flavor Sparkling Mineral Water',)\n",
            "Rule 27: ('Organic Heritage Flakes Cereal', 'Peach-Pear Sparkling Water') -> ('Organic Pink Lemonade Bunny Fruit Snacks',)\n",
            "Rule 28: ('Sparkling Water Natural Mango Essenced', 'Peach-Pear Sparkling Water') -> ('Organic Pink Lemonade Bunny Fruit Snacks',)\n",
            "Rule 29: ('Sparkling Water Natural Mango Essenced', 'Organic Pink Lemonade Bunny Fruit Snacks') -> ('Peach-Pear Sparkling Water',)\n",
            "Rule 30: ('Peach-Pear Sparkling Water', 'Organic Pink Lemonade Bunny Fruit Snacks') -> ('Sparkling Water Natural Mango Essenced',)\n",
            "Rule 31: ('Sparkling Water Natural Mango Essenced',) -> ('Peach-Pear Sparkling Water', 'Organic Pink Lemonade Bunny Fruit Snacks')\n",
            "Rule 32: ('Sparkling Water Natural Mango Essenced', 'Dark Chocolate Minis', 'Peach-Pear Sparkling Water') -> ('Organic Pink Lemonade Bunny Fruit Snacks',)\n",
            "Rule 33: ('Sparkling Water Natural Mango Essenced', 'Dark Chocolate Minis', 'Organic Pink Lemonade Bunny Fruit Snacks') -> ('Peach-Pear Sparkling Water',)\n",
            "Rule 34: ('Sparkling Water Natural Mango Essenced', 'Peach-Pear Sparkling Water', 'Organic Pink Lemonade Bunny Fruit Snacks') -> ('Dark Chocolate Minis',)\n",
            "Rule 35: ('Dark Chocolate Minis', 'Peach-Pear Sparkling Water', 'Organic Pink Lemonade Bunny Fruit Snacks') -> ('Sparkling Water Natural Mango Essenced',)\n",
            "Rule 36: ('Sparkling Water Natural Mango Essenced', 'Dark Chocolate Minis') -> ('Peach-Pear Sparkling Water', 'Organic Pink Lemonade Bunny Fruit Snacks')\n",
            "Rule 37: ('Sparkling Water Natural Mango Essenced', 'Peach-Pear Sparkling Water') -> ('Dark Chocolate Minis', 'Organic Pink Lemonade Bunny Fruit Snacks')\n",
            "Rule 38: ('Sparkling Water Natural Mango Essenced', 'Organic Pink Lemonade Bunny Fruit Snacks') -> ('Dark Chocolate Minis', 'Peach-Pear Sparkling Water')\n",
            "Rule 39: ('Dark Chocolate Minis', 'Peach-Pear Sparkling Water') -> ('Sparkling Water Natural Mango Essenced', 'Organic Pink Lemonade Bunny Fruit Snacks')\n"
          ]
        }
      ]
    },
    {
      "cell_type": "markdown",
      "metadata": {
        "id": "MvBJVpAD9oMV"
      },
      "source": [
        "##Load Test Rules"
      ]
    },
    {
      "cell_type": "code",
      "metadata": {
        "colab": {
          "base_uri": "https://localhost:8080/"
        },
        "id": "3P9JiZ2qw88r",
        "outputId": "d13c1285-fdbe-478a-a3d9-5cd52a8e5ea7"
      },
      "source": [
        "data_frame_test = pd.read_csv('/content/gdrive/MyDrive/Colab Notebooks/testarules.csv')\n",
        "data_frame_test.product_name = [\"\".join(i.split(\",\")) for i in data_frame_test]"
      ],
      "execution_count": null,
      "outputs": [
        {
          "output_type": "stream",
          "name": "stderr",
          "text": [
            "/usr/local/lib/python3.7/dist-packages/ipykernel_launcher.py:2: UserWarning: Pandas doesn't allow columns to be created via a new attribute name - see https://pandas.pydata.org/pandas-docs/stable/indexing.html#attribute-access\n",
            "  \n"
          ]
        }
      ]
    },
    {
      "cell_type": "markdown",
      "metadata": {
        "id": "Wh9Y2zgU9r_2"
      },
      "source": [
        "##Check the test dataset"
      ]
    },
    {
      "cell_type": "code",
      "metadata": {
        "colab": {
          "base_uri": "https://localhost:8080/",
          "height": 81
        },
        "id": "ZCiVLofY9L9F",
        "outputId": "76a5b984-ba0c-48a4-c97b-ae184c9e321f"
      },
      "source": [
        "data_frame_test"
      ],
      "execution_count": null,
      "outputs": [
        {
          "output_type": "execute_result",
          "data": {
            "text/html": [
              "<div>\n",
              "<style scoped>\n",
              "    .dataframe tbody tr th:only-of-type {\n",
              "        vertical-align: middle;\n",
              "    }\n",
              "\n",
              "    .dataframe tbody tr th {\n",
              "        vertical-align: top;\n",
              "    }\n",
              "\n",
              "    .dataframe thead th {\n",
              "        text-align: right;\n",
              "    }\n",
              "</style>\n",
              "<table border=\"1\" class=\"dataframe\">\n",
              "  <thead>\n",
              "    <tr style=\"text-align: right;\">\n",
              "      <th></th>\n",
              "      <th>Item1</th>\n",
              "      <th>Item2</th>\n",
              "      <th>Item3</th>\n",
              "      <th>Item4</th>\n",
              "      <th>Item5</th>\n",
              "    </tr>\n",
              "  </thead>\n",
              "  <tbody>\n",
              "    <tr>\n",
              "      <th>0</th>\n",
              "      <td>Dark Chocolate Minis</td>\n",
              "      <td>Organic Pink Lemonade Bunny Fruit Snacks</td>\n",
              "      <td>Peach-Pear Sparkling Water</td>\n",
              "      <td>NaN</td>\n",
              "      <td>NaN</td>\n",
              "    </tr>\n",
              "  </tbody>\n",
              "</table>\n",
              "</div>"
            ],
            "text/plain": [
              "                  Item1                                     Item2  ... Item4  Item5\n",
              "0  Dark Chocolate Minis  Organic Pink Lemonade Bunny Fruit Snacks  ...   NaN    NaN\n",
              "\n",
              "[1 rows x 5 columns]"
            ]
          },
          "metadata": {},
          "execution_count": 12
        }
      ]
    },
    {
      "cell_type": "markdown",
      "metadata": {
        "id": "zUBzxdft9vfO"
      },
      "source": [
        "##Lets analyse the support for the first item based on the training dataset"
      ]
    },
    {
      "cell_type": "code",
      "metadata": {
        "colab": {
          "base_uri": "https://localhost:8080/"
        },
        "id": "XVK3iOzgzMgP",
        "outputId": "094ae4f7-204f-486b-93c1-196c8ce57910"
      },
      "source": [
        "data_frame_test['Item1']"
      ],
      "execution_count": null,
      "outputs": [
        {
          "output_type": "execute_result",
          "data": {
            "text/plain": [
              "0    Dark Chocolate Minis\n",
              "Name: Item1, dtype: object"
            ]
          },
          "metadata": {},
          "execution_count": 8
        }
      ]
    },
    {
      "cell_type": "code",
      "metadata": {
        "colab": {
          "base_uri": "https://localhost:8080/",
          "height": 81
        },
        "id": "aKuVucbHytHl",
        "outputId": "34e55fda-f206-4948-b377-fe8e65d9d279"
      },
      "source": [
        "freq_itemset_using_apriori[ freq_itemset_using_apriori['itemsets'] == {'Dark Chocolate Minis'} ]"
      ],
      "execution_count": null,
      "outputs": [
        {
          "output_type": "execute_result",
          "data": {
            "text/html": [
              "<div>\n",
              "<style scoped>\n",
              "    .dataframe tbody tr th:only-of-type {\n",
              "        vertical-align: middle;\n",
              "    }\n",
              "\n",
              "    .dataframe tbody tr th {\n",
              "        vertical-align: top;\n",
              "    }\n",
              "\n",
              "    .dataframe thead th {\n",
              "        text-align: right;\n",
              "    }\n",
              "</style>\n",
              "<table border=\"1\" class=\"dataframe\">\n",
              "  <thead>\n",
              "    <tr style=\"text-align: right;\">\n",
              "      <th></th>\n",
              "      <th>support</th>\n",
              "      <th>itemsets</th>\n",
              "    </tr>\n",
              "  </thead>\n",
              "  <tbody>\n",
              "    <tr>\n",
              "      <th>26</th>\n",
              "      <td>0.021157</td>\n",
              "      <td>(Dark Chocolate Minis)</td>\n",
              "    </tr>\n",
              "  </tbody>\n",
              "</table>\n",
              "</div>"
            ],
            "text/plain": [
              "     support                itemsets\n",
              "26  0.021157  (Dark Chocolate Minis)"
            ]
          },
          "metadata": {},
          "execution_count": 11
        }
      ]
    },
    {
      "cell_type": "markdown",
      "metadata": {
        "id": "9scxGAkN9621"
      },
      "source": [
        "##Lets analyse the support for the second item based on the training dataset"
      ]
    },
    {
      "cell_type": "code",
      "metadata": {
        "colab": {
          "base_uri": "https://localhost:8080/"
        },
        "id": "tBBhd7hK9VQA",
        "outputId": "c2f5d798-b33c-413f-c0e9-74dbd31469aa"
      },
      "source": [
        "data_frame_test['Item2']"
      ],
      "execution_count": null,
      "outputs": [
        {
          "output_type": "execute_result",
          "data": {
            "text/plain": [
              "0    Organic Pink Lemonade Bunny Fruit Snacks\n",
              "Name: Item2, dtype: object"
            ]
          },
          "metadata": {},
          "execution_count": 14
        }
      ]
    },
    {
      "cell_type": "code",
      "metadata": {
        "colab": {
          "base_uri": "https://localhost:8080/",
          "height": 81
        },
        "id": "7I-m3w2M0y99",
        "outputId": "b46df53e-0767-495b-d998-cdb860a41ad5"
      },
      "source": [
        "freq_itemset_using_apriori[ freq_itemset_using_apriori['itemsets'] == {'Organic Pink Lemonade Bunny Fruit Snacks'} ]"
      ],
      "execution_count": null,
      "outputs": [
        {
          "output_type": "execute_result",
          "data": {
            "text/html": [
              "<div>\n",
              "<style scoped>\n",
              "    .dataframe tbody tr th:only-of-type {\n",
              "        vertical-align: middle;\n",
              "    }\n",
              "\n",
              "    .dataframe tbody tr th {\n",
              "        vertical-align: top;\n",
              "    }\n",
              "\n",
              "    .dataframe thead th {\n",
              "        text-align: right;\n",
              "    }\n",
              "</style>\n",
              "<table border=\"1\" class=\"dataframe\">\n",
              "  <thead>\n",
              "    <tr style=\"text-align: right;\">\n",
              "      <th></th>\n",
              "      <th>support</th>\n",
              "      <th>itemsets</th>\n",
              "    </tr>\n",
              "  </thead>\n",
              "  <tbody>\n",
              "    <tr>\n",
              "      <th>97</th>\n",
              "      <td>0.020451</td>\n",
              "      <td>(Organic Pink Lemonade Bunny Fruit Snacks)</td>\n",
              "    </tr>\n",
              "  </tbody>\n",
              "</table>\n",
              "</div>"
            ],
            "text/plain": [
              "     support                                    itemsets\n",
              "97  0.020451  (Organic Pink Lemonade Bunny Fruit Snacks)"
            ]
          },
          "metadata": {},
          "execution_count": 15
        }
      ]
    },
    {
      "cell_type": "markdown",
      "metadata": {
        "id": "JhwQXZY--Chl"
      },
      "source": [
        "##Lets analyse the support for the third item based on the training dataset"
      ]
    },
    {
      "cell_type": "code",
      "metadata": {
        "colab": {
          "base_uri": "https://localhost:8080/"
        },
        "id": "Leky1ga99bTv",
        "outputId": "a7f7e276-631d-45db-a95a-2d6f435f026f"
      },
      "source": [
        "data_frame_test['Item3']"
      ],
      "execution_count": null,
      "outputs": [
        {
          "output_type": "execute_result",
          "data": {
            "text/plain": [
              "0    Peach-Pear Sparkling Water\n",
              "Name: Item3, dtype: object"
            ]
          },
          "metadata": {},
          "execution_count": 16
        }
      ]
    },
    {
      "cell_type": "code",
      "metadata": {
        "colab": {
          "base_uri": "https://localhost:8080/",
          "height": 81
        },
        "id": "gk0WjUBf10np",
        "outputId": "e0638196-4c14-4bd1-d4ab-349452f4e94b"
      },
      "source": [
        "freq_itemset_using_apriori[ freq_itemset_using_apriori['itemsets'] == {'Peach-Pear Sparkling Water'} ]"
      ],
      "execution_count": null,
      "outputs": [
        {
          "output_type": "execute_result",
          "data": {
            "text/html": [
              "<div>\n",
              "<style scoped>\n",
              "    .dataframe tbody tr th:only-of-type {\n",
              "        vertical-align: middle;\n",
              "    }\n",
              "\n",
              "    .dataframe tbody tr th {\n",
              "        vertical-align: top;\n",
              "    }\n",
              "\n",
              "    .dataframe thead th {\n",
              "        text-align: right;\n",
              "    }\n",
              "</style>\n",
              "<table border=\"1\" class=\"dataframe\">\n",
              "  <thead>\n",
              "    <tr style=\"text-align: right;\">\n",
              "      <th></th>\n",
              "      <th>support</th>\n",
              "      <th>itemsets</th>\n",
              "    </tr>\n",
              "  </thead>\n",
              "  <tbody>\n",
              "    <tr>\n",
              "      <th>116</th>\n",
              "      <td>0.016925</td>\n",
              "      <td>(Peach-Pear Sparkling Water)</td>\n",
              "    </tr>\n",
              "  </tbody>\n",
              "</table>\n",
              "</div>"
            ],
            "text/plain": [
              "      support                      itemsets\n",
              "116  0.016925  (Peach-Pear Sparkling Water)"
            ]
          },
          "metadata": {},
          "execution_count": 17
        }
      ]
    }
  ]
}